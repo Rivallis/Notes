{
  "nbformat": 4,
  "nbformat_minor": 0,
  "metadata": {
    "accelerator": "GPU",
    "colab": {
      "provenance": [],
      "toc_visible": true,
      "include_colab_link": true
    },
    "kernelspec": {
      "display_name": "Python 3",
      "name": "python3"
    }
  },
  "cells": [
    {
      "cell_type": "markdown",
      "metadata": {
        "id": "view-in-github",
        "colab_type": "text"
      },
      "source": [
        "<a href=\"https://colab.research.google.com/github/Rivallis/Notes/blob/master/JAX_tutorial_(winter_2022).ipynb\" target=\"_parent\"><img src=\"https://colab.research.google.com/assets/colab-badge.svg\" alt=\"Open In Colab\"/></a>"
      ]
    },
    {
      "cell_type": "markdown",
      "source": [
        "Based on Guodong Zhang's tutorials in CSC2541 Winter 2021."
      ],
      "metadata": {
        "id": "Z3KPAtJLBtdN"
      }
    },
    {
      "cell_type": "markdown",
      "metadata": {
        "id": "wzHaU1mC9kUj"
      },
      "source": [
        "## What is JAX?\n",
        "\n",
        "[JAX](https://github.com/google/jax) = [autograd](https://github.com/HIPS/autograd) + [XLA](https://www.tensorflow.org/xla) = Numpy + Autodiff + XLA(Accelerated Linear Algebra)\n",
        "\n",
        "JAX is a Python library which augments numpy and Python code with function transformations which make it trivial to perform operations common in machine learning programs. Concretely, this makes it simple to write standard Python/numpy code and immediately be able to\n",
        "\n",
        "\n",
        "*   Compute the derivative of a function via a successor to autograd (`jax.grad`)\n",
        "*   Compile and run your numpy programs on GPUs and TPUs via XLA by default. Just-in-time compile your own Python functions into XLA-optimized kernels using a one-function API (`jax.jit`)\n",
        "*   Automagically vectorize a function, so that e.g. you can process a “batch” of data in parallel (`jax.vmap/jax.pmap`)\n",
        "\n",
        "\n",
        "**Disclaimer: I'm by no mean an expert in JAX.**\n",
        "- \"A good programmer is typically the one who is good at googling\".\n",
        "\n",
        "\n"
      ]
    },
    {
      "cell_type": "code",
      "metadata": {
        "id": "0X8-XaZGC8YN"
      },
      "source": [
        "import jax\n",
        "import jax.numpy as np\n",
        "# Current convention is to import original numpy as \"onp\"\n",
        "import numpy as onp\n",
        "\n",
        "from jax import random"
      ],
      "execution_count": null,
      "outputs": []
    },
    {
      "cell_type": "markdown",
      "metadata": {
        "id": "Vj25f_qLYEGY"
      },
      "source": [
        "## Today's Focus\n",
        "###1. [Autodiff](https://www.cs.toronto.edu/~rgrosse/courses/csc321_2018/slides/lec10.pdf)\n",
        "\n",
        "- `jax.vjp` computes the vector-Jacobian product (aka reverse-mode autodiff) which is the key component of `jax.grad`\n",
        "- `jax.jvp` computes the Jacobian-vector product (aka forward-mode autodiff) which is the key component of `jax.linearize`\n",
        "- Using these two functions for many interesting matrix-vector product (e.g., Hessian-vector product)\n",
        "\n",
        "###2. Example: Gauss-Newton Hessian-vector product in deep learning\n",
        "- Gauss-Newton Hessian-vector product\n",
        "- Using `jax.jit` to speed up training"
      ]
    },
    {
      "cell_type": "markdown",
      "source": [
        "#Autodiff"
      ],
      "metadata": {
        "id": "se_pPBdwIXbS"
      }
    },
    {
      "cell_type": "markdown",
      "metadata": {
        "id": "PxuaLVHcaa-x"
      },
      "source": [
        "## `jax.vjp`\n",
        "\n",
        "**A bit about math**\n",
        "\n",
        "Mathematically, suppose we have a function $f: \\mathbb{R}^n \\rightarrow \\mathbb{R}^m$, the Jacobian matrix of $f$ at a particular point $x$, denoted $J(x) \\in \\mathbb{R}^{m \\times n}$, is a matrix:\n",
        "$$J(x) =\n",
        "\\left(\\begin{matrix}\n",
        "\\frac{\\partial f_1}{\\partial x_1} & \\cdots & \\frac{\\partial f_1}{\\partial x_n} \\\\\n",
        "\\vdots & \\ddots & \\vdots \\\\\n",
        "\\frac{\\partial f_m}{\\partial x_1} & \\cdots & \\frac{\\partial f_m}{\\partial x_n}\n",
        "\\end{matrix} \\right)$$\n",
        "\n",
        "You can think of it as a linear map $J(x): \\mathbb{R}^n \\rightarrow \\mathbb{R}^m$ which maps $v$ to $J(x)v$.\n",
        "\n",
        "What vector-Jacobian product does is to compute $v^TJ(x)$ or $J(x)^\\top v$. `jax.vjp` is the api to compute the vector-Jacobian product in JAX with two arguments:\n",
        "- first argument: a callable function $f$\n",
        "- second argument: primal value at which point the Jacobian is evaluated (Should be either a tuple or a list of arguments)\n",
        "\n",
        "It returns both $f(x)$ and a linear map $J(x)^\\top: \\mathbb{R}^m \\rightarrow \\mathbb{R}^n$ which map $v$ to $J^\\top v$."
      ]
    },
    {
      "cell_type": "code",
      "metadata": {
        "id": "dj-XYpdkaO2o"
      },
      "source": [
        "f = lambda x: np.sum(3 * x ** 2)\n",
        "\n",
        "y, vjp_fun = jax.vjp(f, np.ones((2, 2)))\n",
        "\n",
        "key = random.PRNGKey(0)\n",
        "key, subkey = random.split(key)\n",
        "v = random.normal(subkey, y.shape)\n",
        "\n",
        "# compute J^T v\n",
        "vjp = vjp_fun(v)"
      ],
      "execution_count": null,
      "outputs": []
    },
    {
      "cell_type": "markdown",
      "metadata": {
        "id": "vfylaVrSeCVP"
      },
      "source": [
        "The `jax.grad` function we used all the time is essentially a vector-Jacobian product."
      ]
    },
    {
      "cell_type": "code",
      "metadata": {
        "colab": {
          "base_uri": "https://localhost:8080/"
        },
        "id": "qcltnAIiaEgx",
        "outputId": "95c3d367-186b-4628-91db-d4b05dedc6e5"
      },
      "source": [
        "def my_grad(f, x):\n",
        "  y, vjp_fn = jax.vjp(f, x)\n",
        "  return vjp_fn(np.ones(y.shape))[0]\n",
        "\n",
        "f = lambda x: np.sum(3 * x ** 2)\n",
        "print(\"my_grad:\\n {}\".format(my_grad(f, np.ones((2, 2)))))\n",
        "print(\"jax grad:\\n {}\".format(jax.grad(f)(np.ones((2, 2)))))"
      ],
      "execution_count": null,
      "outputs": [
        {
          "output_type": "stream",
          "name": "stdout",
          "text": [
            "my_grad:\n",
            " [[6. 6.]\n",
            " [6. 6.]]\n",
            "jax grad:\n",
            " [[6. 6.]\n",
            " [6. 6.]]\n"
          ]
        }
      ]
    },
    {
      "cell_type": "markdown",
      "metadata": {
        "id": "xYhcXvMDgr8v"
      },
      "source": [
        "## `jax.jvp`\n",
        "\n",
        "What Jacobian-vector product does is to compute $J(x)v$, which is the first-order term in Taylor expansion. Recall the Taylor expansion for a scalar function $f: \\mathbb{R}^n \\rightarrow \\mathbb{R}$:\n",
        "$$f(x) = f(x_0) + J(x_0)(x - x_0) + o(\\| x - x_0 \\|)$$\n",
        "\n",
        "`jax.jvp` is the api to compute the Jacobian-vector product in JAX with three arguments:\n",
        "- first argument: a callable function $f$\n",
        "- second argument: primal value at which point the Jacobian is evaluated (Should be either a tuple or a list of arguments)\n",
        "- third argument: tangent vector $v$\n",
        "\n",
        "It returns both $f(x)$ and $J(x)v$."
      ]
    },
    {
      "cell_type": "code",
      "metadata": {
        "colab": {
          "base_uri": "https://localhost:8080/"
        },
        "id": "PdnF-903i0WS",
        "outputId": "b4969233-2d99-40c4-ff83-9d3ede4d9e95"
      },
      "source": [
        "f = lambda x: np.sum(3 * x ** 2)\n",
        "primal_value = np.ones((2, 2))\n",
        "tangent_vector = np.ones((2, 2))\n",
        "y, f_jvp = jax.jvp(f, (primal_value, ), (tangent_vector, ))\n",
        "print(y, f_jvp)"
      ],
      "execution_count": null,
      "outputs": [
        {
          "output_type": "stream",
          "name": "stdout",
          "text": [
            "12.0 24.0\n"
          ]
        }
      ]
    },
    {
      "cell_type": "markdown",
      "metadata": {
        "id": "5hzzra8Fjkaq"
      },
      "source": [
        "### There is another function `jax.linearize` basically doing the same thing."
      ]
    },
    {
      "cell_type": "code",
      "metadata": {
        "colab": {
          "base_uri": "https://localhost:8080/"
        },
        "id": "R5Rr5y-7j1G2",
        "outputId": "09296d95-16c6-4fd9-b1a5-3a7670b20960"
      },
      "source": [
        "y, f_linearized = jax.linearize(f, primal_value)\n",
        "f_jvp_ = f_linearized(tangent_vector)\n",
        "print(y, f_jvp_)"
      ],
      "execution_count": null,
      "outputs": [
        {
          "output_type": "stream",
          "name": "stdout",
          "text": [
            "12.0 24.0\n"
          ]
        }
      ]
    },
    {
      "cell_type": "markdown",
      "metadata": {
        "id": "cuc1edI1mM1M"
      },
      "source": [
        "### Implementing `jax.jvp` using two `jax.vjp` (see this [thread](https://github.com/renmengye/tensorflow-forward-ad/issues/2))\n",
        "\n",
        "- One important fact: for a linear operator $f(x) = Ax$, `vjp` returns $A^\\top x$.\n",
        "- In the first `vjp`, we get $J^\\top v_\\text{dummy}$ which is a linear operator with $A = J^\\top$. In this step, we could use any $v_\\text{dummy}$.\n",
        "- In the second `vjp`, we get $Jv$."
      ]
    },
    {
      "cell_type": "code",
      "metadata": {
        "colab": {
          "base_uri": "https://localhost:8080/"
        },
        "id": "ZVX9kxFCmUzV",
        "outputId": "81c87989-213e-4ec8-a7ad-7dbf0e711293"
      },
      "source": [
        "def my_jvp(f, x, v):\n",
        "  ans, f_vjp = jax.vjp(f, x) # f_vjp returns a linear map J^T\n",
        "  dummy_var = np.zeros_like(ans)\n",
        "  _, f_vjp_vjp = jax.vjp(f_vjp, dummy_var) # f_vjp_vjp returns J\n",
        "  return f_vjp_vjp((v,))[0]\n",
        "\n",
        "f_jvp__ = my_jvp(f, primal_value, tangent_vector)\n",
        "print(f_jvp__)"
      ],
      "execution_count": null,
      "outputs": [
        {
          "output_type": "stream",
          "name": "stdout",
          "text": [
            "24.0\n"
          ]
        }
      ]
    },
    {
      "cell_type": "code",
      "metadata": {
        "colab": {
          "base_uri": "https://localhost:8080/"
        },
        "id": "w51BplVrqODp",
        "outputId": "0c955304-7755-4f13-ffda-8126ff363b7d"
      },
      "source": [
        "%timeit jax.jvp(f, (primal_value, ), (tangent_vector, ))\n",
        "%timeit f_linearized(tangent_vector)\n",
        "%timeit my_jvp(f, primal_value, tangent_vector)"
      ],
      "execution_count": null,
      "outputs": [
        {
          "output_type": "stream",
          "name": "stdout",
          "text": [
            "1000 loops, best of 5: 1.82 ms per loop\n",
            "100 loops, best of 5: 16.1 ms per loop\n",
            "100 loops, best of 5: 5.4 ms per loop\n"
          ]
        }
      ]
    },
    {
      "cell_type": "markdown",
      "metadata": {
        "id": "DCWW5d-8kg89"
      },
      "source": [
        "## Matrix-vector product\n",
        "\n",
        "- Hessian-vector product $H(x)v$\n",
        "- Gauss-Newton Hessian-vector product $J(x)^\\top J(x)v$\n"
      ]
    },
    {
      "cell_type": "markdown",
      "metadata": {
        "id": "BExrNo_NshV3"
      },
      "source": [
        "### Hessian-vector product\n",
        "In many cases, the Hessian matrix is extremely large, we could compute or store it. Fortunately, Hessian-vector product is typically enough for many things in machine learning.\n",
        "- Computes $H^{-1}v$ in Newton method or influence function\n",
        "- Computes the top eigenvalues of $H$ using power iteration or [Lanczos algorithm](https://arxiv.org/abs/1901.10159)"
      ]
    },
    {
      "cell_type": "code",
      "metadata": {
        "id": "Ti-6F_k6uZvY"
      },
      "source": [
        "def hvp(f, x, v):\n",
        "  return jax.grad(lambda x: np.vdot(jax.grad(f)(x), v))(x)"
      ],
      "execution_count": null,
      "outputs": []
    },
    {
      "cell_type": "markdown",
      "metadata": {
        "id": "nK-_tvL9uvUM"
      },
      "source": [
        "That’s efficient, but we can do even better and save some memory by using forward-mode together with reverse-mode.\n",
        "\n",
        "$$H(x) v = \\partial^2 f(x) v = \\partial g(x) v$$\n",
        "\n",
        "All we need is applying `JVP` on gradient function $g$."
      ]
    },
    {
      "cell_type": "code",
      "metadata": {
        "id": "MetM6U2pvKkp"
      },
      "source": [
        "def new_hvp(f, x, v):\n",
        "  return jax.jvp(jax.grad(f), (x,), (v,))[1]"
      ],
      "execution_count": null,
      "outputs": []
    },
    {
      "cell_type": "code",
      "metadata": {
        "colab": {
          "base_uri": "https://localhost:8080/"
        },
        "id": "4720gUKbuuR9",
        "outputId": "71e55517-329c-4ede-eaa7-e32ed44d6542"
      },
      "source": [
        "f = lambda x: np.sum(3 * x ** 2)\n",
        "primal_value = np.ones((2, 2))\n",
        "tangent_vector = np.ones((2, 2))\n",
        "\n",
        "print(hvp(f, primal_value, tangent_vector))\n",
        "print(new_hvp(f, primal_value, tangent_vector))"
      ],
      "execution_count": null,
      "outputs": [
        {
          "output_type": "stream",
          "name": "stdout",
          "text": [
            "[[6. 6.]\n",
            " [6. 6.]]\n",
            "[[6. 6.]\n",
            " [6. 6.]]\n"
          ]
        }
      ]
    },
    {
      "cell_type": "code",
      "metadata": {
        "colab": {
          "base_uri": "https://localhost:8080/"
        },
        "id": "xfPEilTnx5nl",
        "outputId": "57a47bb4-c2ef-4bd8-989e-b909ad46b850"
      },
      "source": [
        "%timeit hvp(f, primal_value, tangent_vector)\n",
        "%timeit new_hvp(f, primal_value, tangent_vector)"
      ],
      "execution_count": null,
      "outputs": [
        {
          "output_type": "stream",
          "name": "stdout",
          "text": [
            "100 loops, best of 5: 8.9 ms per loop\n",
            "100 loops, best of 5: 6.02 ms per loop\n"
          ]
        }
      ]
    },
    {
      "cell_type": "markdown",
      "metadata": {
        "id": "xw9X7yvJyIn9"
      },
      "source": [
        "# Example: MNIST image classification using Gauss-Newton preconditioner\n",
        "\n",
        "$J(x)^\\top J(x)v$ Can be done by a `JVP` and a `VJP`. In training neural networks, we typically prefer Gauss-Newton matrix or Fisher matrix because they are positive semi-definite.\n",
        "\n",
        "For training neural networks, we could use Gauss-newton updates:\n",
        "$$ \\theta_{t+1} = \\theta_t - \\eta G^{-1}g_t$$\n",
        "To compute $G^{-1}g_t$, we solve the linear system $Gx = g_t$ using [conjugate gradient](https://www.cs.cmu.edu/~quake-papers/painless-conjugate-gradient.pdf).\n",
        "\n",
        "**Caveat**: $G$ needs to be positive definite since conjugate gradient solves the linear system by minimizing $\\frac{1}{2}x^\\top G x - b x$."
      ]
    },
    {
      "cell_type": "code",
      "metadata": {
        "id": "AWFjprTXJzeS"
      },
      "source": [
        "def conjugate_gradient(mvp, b, damping=0.01, max_iter=30):\n",
        "  x = np.zeros_like(b)\n",
        "  r = b\n",
        "  p = r\n",
        "  rdotr = r.dot(r)\n",
        "  for i in range(1, max_iter):\n",
        "    Ap = mvp(p) + damping * p\n",
        "    v = rdotr / p.dot(Ap)\n",
        "    x += v * p\n",
        "    r -= v * Ap\n",
        "    newrdotr = r.dot(r)\n",
        "    mu = newrdotr / rdotr\n",
        "    p = r + mu * p\n",
        "    rdotr = newrdotr\n",
        "  return x"
      ],
      "execution_count": null,
      "outputs": []
    },
    {
      "cell_type": "markdown",
      "source": [
        "##Training setup"
      ],
      "metadata": {
        "id": "YkXGntXg9LmI"
      }
    },
    {
      "cell_type": "code",
      "metadata": {
        "id": "0wWbvdpJ0Cqo",
        "colab": {
          "base_uri": "https://localhost:8080/"
        },
        "outputId": "b1e80800-26bc-4202-e428-3ec0ed22fb07"
      },
      "source": [
        "import time\n",
        "import itertools\n",
        "import scipy\n",
        "import numpy.random as npr\n",
        "\n",
        "import jax\n",
        "import jax.numpy as np\n",
        "from jax import jit, grad, random\n",
        "from jax.experimental import optimizers\n",
        "from jax.experimental import stax\n",
        "from jax.experimental.stax import Dense, Tanh, LogSoftmax\n",
        "from jax.flatten_util import ravel_pytree\n",
        "from keras.datasets import mnist\n",
        "\n",
        "rng = random.PRNGKey(0)\n",
        "\n",
        "step_size = 0.1 # 0.003 for SGD, 0.3 for PSGD\n",
        "num_epochs = 10\n",
        "batch_size = 5000\n",
        "\n",
        "init_random_params, predict = stax.serial(\n",
        "    Dense(512), Tanh,\n",
        "    Dense(512), Tanh,\n",
        "    Dense(10))\n",
        "\n",
        "def loss(params, batch):\n",
        "  inputs, targets = batch\n",
        "  preds = predict(params, inputs)\n",
        "  one_hot_targets = jax.nn.one_hot(targets, 10)\n",
        "  return np.mean(np.sum((preds - one_hot_targets) ** 2, axis=1))\n",
        "\n",
        "def accuracy(params, batch):\n",
        "  inputs, targets = batch\n",
        "  predicted_class = np.argmax(predict(params, inputs), axis=1)\n",
        "  return np.mean(predicted_class == targets)\n",
        "\n",
        "(train_images, train_labels), (test_images, test_labels) = mnist.load_data()\n",
        "train_images = train_images.reshape(-1, 28 * 28)\n",
        "test_images = test_images.reshape(-1, 28 * 28)\n",
        "\n",
        "num_train = train_images.shape[0]\n",
        "num_complete_batches, leftover = divmod(num_train, batch_size)\n",
        "num_batches = num_complete_batches + bool(leftover)\n",
        "\n",
        "def data_stream():\n",
        "  rng = npr.RandomState(0)\n",
        "  while True:\n",
        "    perm = rng.permutation(num_train)\n",
        "    for i in range(num_batches):\n",
        "      batch_idx = perm[i * batch_size:(i + 1) * batch_size]\n",
        "      yield train_images[batch_idx], train_labels[batch_idx]\n",
        "batches = data_stream()"
      ],
      "execution_count": null,
      "outputs": [
        {
          "output_type": "stream",
          "name": "stderr",
          "text": [
            "/usr/local/lib/python3.7/dist-packages/jax/experimental/optimizers.py:30: FutureWarning: jax.experimental.optimizers is deprecated, import jax.example_libraries.optimizers instead\n",
            "  FutureWarning)\n",
            "/usr/local/lib/python3.7/dist-packages/jax/experimental/stax.py:30: FutureWarning: jax.experimental.stax is deprecated, import jax.example_libraries.stax instead\n",
            "  FutureWarning)\n"
          ]
        },
        {
          "output_type": "stream",
          "name": "stdout",
          "text": [
            "Downloading data from https://storage.googleapis.com/tensorflow/tf-keras-datasets/mnist.npz\n",
            "11493376/11490434 [==============================] - 0s 0us/step\n",
            "11501568/11490434 [==============================] - 0s 0us/step\n"
          ]
        }
      ]
    },
    {
      "cell_type": "code",
      "source": [
        "from tqdm import tqdm\n",
        "import matplotlib.pyplot as plt\n",
        "\n",
        "def train(epochs, update_fn):\n",
        "    _, init_params = init_random_params(rng, (-1, 28 * 28))\n",
        "    opt_state = opt_init(init_params)\n",
        "    itercount = itertools.count()\n",
        "\n",
        "    print(\"\\nStarting training...\")\n",
        "    train_losses, train_accs, test_accs = [], [], []\n",
        "    for epoch in tqdm(range(epochs)):\n",
        "        start_time = time.time()\n",
        "        for _ in range(num_batches):\n",
        "            opt_state = update_fn(next(itercount), opt_state, next(batches))\n",
        "        epoch_time = time.time() - start_time\n",
        "\n",
        "        params = get_params(opt_state)\n",
        "        train_losses.append(loss(params, (train_images, train_labels)))\n",
        "        train_accs.append(accuracy(params, (train_images, train_labels)))\n",
        "        test_accs.append(accuracy(params, (test_images, test_labels)))\n",
        "    return train_losses, train_accs, test_accs\n",
        "\n",
        "def plot_loss_accuracy(losses, train_acc, test_acc):\n",
        "    fig, axes = plt.subplots(nrows=1, ncols=2, figsize=(12, 5))\n",
        "    axes[0].plot(losses)\n",
        "    axes[0].set_ylabel('Training loss')\n",
        "    axes[0].set_xlabel('Epoch')\n",
        "    axes[1].plot(train_acc, label='train')\n",
        "    axes[1].plot(test_acc, label='test')\n",
        "    axes[1].set_ylabel('Accuracy')\n",
        "    axes[1].set_xlabel('Epoch')\n",
        "    plt.show()"
      ],
      "metadata": {
        "id": "UbUyFgCy4YC0"
      },
      "execution_count": null,
      "outputs": []
    },
    {
      "cell_type": "markdown",
      "source": [
        "##Plain SGD"
      ],
      "metadata": {
        "id": "EwNRF6Qt9C6L"
      }
    },
    {
      "cell_type": "code",
      "source": [
        "step_size = 0.003\n",
        "opt_init, opt_update, get_params = optimizers.sgd(step_size)\n",
        "\n",
        "@jit\n",
        "def update(i, opt_state, batch):\n",
        "  params = get_params(opt_state)\n",
        "  return opt_update(i, grad(loss)(params, batch), opt_state)\n",
        "\n",
        "t0 = time.time()\n",
        "train_losses, train_accs, test_accs = train(epochs=20, update_fn=update)\n",
        "print(f'Total training time = {time.time() - t0} s')\n",
        "\n",
        "plot_loss_accuracy(train_losses, train_accs, test_accs)"
      ],
      "metadata": {
        "id": "LeDHM65N2wMR",
        "colab": {
          "base_uri": "https://localhost:8080/",
          "height": 403
        },
        "outputId": "11d443a7-9017-42ea-8e3d-ee5d871b90cb"
      },
      "execution_count": null,
      "outputs": [
        {
          "output_type": "stream",
          "name": "stdout",
          "text": [
            "\n",
            "Starting training...\n"
          ]
        },
        {
          "output_type": "stream",
          "name": "stderr",
          "text": [
            "100%|██████████| 20/20 [00:07<00:00,  2.73it/s]\n"
          ]
        },
        {
          "output_type": "stream",
          "name": "stdout",
          "text": [
            "Total training time = 10.64720106124878 s\n"
          ]
        },
        {
          "output_type": "display_data",
          "data": {
            "image/png": "[encoded data removed]",
            "text/plain": [
              "<Figure size 864x360 with 2 Axes>"
            ]
          },
          "metadata": {
            "needs_background": "light"
          }
        }
      ]
    },
    {
      "cell_type": "markdown",
      "source": [
        "##With Gauss-Newton preconditioner"
      ],
      "metadata": {
        "id": "k-gHFQQO8iy6"
      }
    },
    {
      "cell_type": "code",
      "metadata": {
        "id": "Qw2NU9w8_wJv",
        "colab": {
          "base_uri": "https://localhost:8080/",
          "height": 403
        },
        "outputId": "3ff854bf-79b1-4aa8-82dc-35abebdeb808"
      },
      "source": [
        "step_size = 0.1\n",
        "opt_init, opt_update, get_params = optimizers.sgd(step_size)\n",
        "\n",
        "def gvp(params, v, batch):\n",
        "  inputs, _ = batch\n",
        "  f = lambda p: predict(p, inputs)\n",
        "  _, unravel_fn = ravel_pytree(params)\n",
        "  jvp = jax.jvp(f, [params], [unravel_fn(v)])[1]\n",
        "  _, f_vjp = jax.vjp(f, params)\n",
        "  gvp = f_vjp(jvp)[0]\n",
        "  return ravel_pytree(gvp)[0] / inputs.shape[0]\n",
        "\n",
        "@jit\n",
        "def precon_update(i, opt_state, batch):\n",
        "  params = get_params(opt_state)\n",
        "  grads = grad(loss)(params, batch)\n",
        "  # solve linear system using conjugate gradient\n",
        "  _, unravel_fn = ravel_pytree(params)\n",
        "  mvp = lambda v: gvp(params, v, batch)\n",
        "  precon_grads = conjugate_gradient(mvp, ravel_pytree(grads)[0])\n",
        "  precon_grads = unravel_fn(precon_grads)\n",
        "  return opt_update(i, precon_grads, opt_state)\n",
        "\n",
        "t0 = time.time()\n",
        "train_losses, train_accs, test_accs = train(epochs=10, update_fn=precon_update)\n",
        "print(f'Total training time = {time.time() - t0} s')\n",
        "plot_loss_accuracy(train_losses, train_accs, test_accs)"
      ],
      "execution_count": null,
      "outputs": [
        {
          "output_type": "stream",
          "name": "stdout",
          "text": [
            "\n",
            "Starting training...\n"
          ]
        },
        {
          "output_type": "stream",
          "name": "stderr",
          "text": [
            "100%|██████████| 10/10 [00:35<00:00,  3.54s/it]\n"
          ]
        },
        {
          "output_type": "stream",
          "name": "stdout",
          "text": [
            "Total training time = 35.366393089294434 s\n"
          ]
        },
        {
          "output_type": "display_data",
          "data": {
            "image/png": "[encoded data removed]",
            "text/plain": [
              "<Figure size 864x360 with 2 Axes>"
            ]
          },
          "metadata": {
            "needs_background": "light"
          }
        }
      ]
    },
    {
      "cell_type": "markdown",
      "metadata": {
        "id": "W_QBYIU4GN-v"
      },
      "source": [
        "##`jax.jit`\n",
        "\n",
        "While carefully-written `numpy` code can be reasonably performant, for modern machine learning we want our code to run as fast as possible. JAX provides a JIT (just-in-time) compiler which takes a standard Python/`numpy` function and compiles it to run efficiently on an accelerator. Compiling a function also avoids the overhead of the Python interpreter, which helps whether or not you're using an accelerator. In total, `jax.jit` can dramatically speed-up your code with essentially no coding overhead - you just ask JAX to compile the function for you. Even our tiny neural network can see a pretty dramatic speedup when using `jax.jit`:\n",
        "\n",
        "**Warning**: not all functions can be jit'ed (see [here](https://jax.readthedocs.io/en/latest/notebooks/Common_Gotchas_in_JAX.html#python-control-flow-+-JIT))."
      ]
    },
    {
      "cell_type": "code",
      "metadata": {
        "id": "ZaxZ5HGfGeZ8",
        "colab": {
          "base_uri": "https://localhost:8080/"
        },
        "outputId": "cf4d33fc-349f-45b6-d8ca-4d5aed91aebe"
      },
      "source": [
        "# Time the original gradient function\n",
        "def f(x, y):\n",
        "    return (x**1.5) * y + y ** 3\n",
        "\n",
        "x0 = np.array(2.5)\n",
        "y0 = np.array(3.3)\n",
        "\n",
        "%timeit jax.grad(f)(x0, y0)\n",
        "\n",
        "f_grad_jit = jax.jit(jax.grad(f))\n",
        "\n",
        "# Run once to trigger JIT compilation\n",
        "f_grad_jit(x0, y0)\n",
        "\n",
        "%timeit f_grad_jit(x0, y0)"
      ],
      "execution_count": null,
      "outputs": [
        {
          "output_type": "stream",
          "name": "stdout",
          "text": [
            "The slowest run took 114.89 times longer than the fastest. This could mean that an intermediate result is being cached.\n",
            "1 loop, best of 5: 3.36 ms per loop\n",
            "10000 loops, best of 5: 42.2 µs per loop\n"
          ]
        }
      ]
    },
    {
      "cell_type": "markdown",
      "source": [
        "###Use `jax.jit` to speed up the training above"
      ],
      "metadata": {
        "id": "ucKEMV9hGo-b"
      }
    }
  ]
}